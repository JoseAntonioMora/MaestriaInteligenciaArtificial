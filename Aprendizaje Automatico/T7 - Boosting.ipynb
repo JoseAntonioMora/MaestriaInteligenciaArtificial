{
 "cells": [
  {
   "cell_type": "markdown",
   "id": "3c6370e2",
   "metadata": {},
   "source": [
    "# Tema 7.3 Boosting\n",
    "\n",
    "![scikit-learn](https://img.shields.io/badge/scikit--learn-%23F7931E.svg?style=for-the-badge&logo=scikit-learn&logoColor=white)\n",
    "\n",
    "El **Boosting** es una técnica de **aprendizaje ensemble** en machine learning, donde se combinan varios modelos \"débiles\" (como árboles de decisión simples) para crear un modelo \"fuerte\" y más preciso. La clave es que los modelos se construyen de manera **secuencial**: cada uno nuevo se enfoca en corregir los errores del anterior.\n",
    "\n",
    "## Pasos básicos de cómo funciona:\n",
    "\n",
    "1. **Entrena el primer modelo**: Usa los datos originales para entrenar un clasificador o regresor simple.\n",
    "2. **Identifica errores**: Mira qué instancias (ejemplos) se clasificaron mal y les da más \"peso\" o importancia.\n",
    "3. **Entrena el siguiente modelo**: El nuevo modelo se enfoca más en esos errores, tratando de acertar donde el anterior falló.\n",
    "4. **Repite y combina**: Agrega más modelos (hasta un número definido), y al final, combina sus predicciones (por ejemplo, con votación ponderada) para obtener el resultado final.\n",
    "\n",
    "### Ventajas\n",
    "Mejora la precisión, reduce el sesgo y es efectivo en problemas complejos. Desventajas: Puede sobreajustarse si no se controla bien y es más lento que otros métodos como Bagging.\n",
    "\n",
    "### Ejemplos populares de algoritmos de Boosting:\n",
    "\n",
    "- **AdaBoost** (Adaptive Boosting): Ajusta pesos de instancias y modelos.\n",
    "- **Gradient Boosting**: Minimiza errores usando gradientes (como en XGBoost o LightGBM).\n",
    "\n",
    "Es útil en clasificación (ej. detectar spam) o regresión (ej. predecir precios).\n",
    "\n",
    "# Ejemplo\n",
    "\n",
    "Usaremos **AdaBoost** para clasificar flores en el dataset Iris (un conjunto clásico con 150 muestras de 3 tipos de flores, basadas en 4 características). Entrenaremos un modelo con árboles de decisión débiles como base."
   ]
  },
  {
   "cell_type": "code",
   "execution_count": 1,
   "id": "b59e7687",
   "metadata": {},
   "outputs": [
    {
     "name": "stdout",
     "output_type": "stream",
     "text": [
      "Precisión del modelo: 0.9333333333333333\n"
     ]
    }
   ],
   "source": [
    "from sklearn.datasets import load_iris\n",
    "from sklearn.model_selection import train_test_split\n",
    "from sklearn.ensemble import AdaBoostClassifier\n",
    "from sklearn.tree import DecisionTreeClassifier\n",
    "from sklearn.metrics import accuracy_score\n",
    "\n",
    "# Cargar el dataset Iris\n",
    "iris = load_iris()\n",
    "X = iris.data  # Características (longitud y ancho de sépalos/pétalos)\n",
    "y = iris.target  # Etiquetas (0: setosa, 1: versicolor, 2: virginica)\n",
    "\n",
    "# Dividir en datos de entrenamiento y prueba (80% train, 20% test)\n",
    "X_train, X_test, y_train, y_test = train_test_split(X, y, test_size=0.2, random_state=42)\n",
    "\n",
    "# Definir el estimador base: un árbol de decisión simple (débil, profundidad 1)\n",
    "base_estimator = DecisionTreeClassifier(max_depth=1)\n",
    "\n",
    "# Crear el modelo AdaBoost con 50 estimadores\n",
    "model = AdaBoostClassifier(estimator=base_estimator, n_estimators=50, random_state=42)\n",
    "\n",
    "# Entrenar el modelo\n",
    "model.fit(X_train, y_train)\n",
    "\n",
    "# Predecir en los datos de prueba\n",
    "y_pred = model.predict(X_test)\n",
    "\n",
    "# Calcular la precisión\n",
    "accuracy = accuracy_score(y_test, y_pred)\n",
    "print(f\"Precisión del modelo: {accuracy}\")"
   ]
  },
  {
   "cell_type": "markdown",
   "id": "e4b8a319",
   "metadata": {},
   "source": [
    "## Explicación del Ejemplo\n",
    "\n",
    "1. Importamos las bibliotecas necesarias.\n",
    "2. Cargamos el dataset Iris y lo dividimos en entrenamiento/prueba.\n",
    "3. Creamos un estimador base débil (un árbol de decisión con profundidad 1, que solo hace una división simple).\n",
    "4. Inicializamos AdaBoost con 50 iteraciones (cada una agrega un nuevo modelo que corrige errores).\n",
    "5. Entrenamos, predecimos y evaluamos la precisión (accuracy).\n",
    "\n",
    "La precisión del modelo indica que acertó en un 93% las predicciones de los datos de prueba.\n"
   ]
  },
  {
   "cell_type": "markdown",
   "id": "bc0041fb",
   "metadata": {},
   "source": [
    "# Ejercicio Propuesto\n",
    "\n",
    "- **Tarea**: Implementa un modelo de **Gradient Boostin**g (usa ```GradientBoostingClassifier``` de scikit-learn) en el mismo dataset Iris. Usa al menos 100 estimadores y una tasa de aprendizaje (learning_rate) de 0.1. Calcula la precisión y compárala con la de AdaBoost del ejemplo anterior.\n",
    "\n",
    "- **Pistas**:\n",
    "\n",
    "    - Importa: ```from sklearn.ensemble import GradientBoostingClassifier```\n",
    "    - Crea el modelo: ```model = GradientBoostingClassifier(n_estimators=100, learning_rate=0.1, random_state=42)```\n",
    "    - El resto del código es similar: entrena, predice y calcula accuracy.\n",
    "    - **Pregunta para reflexionar**: ¿Por qué podría Gradient Boosting dar una precisión diferente? (Pista: Piensa en cómo maneja los errores vs. AdaBoost).\n",
    "\n",
    "\n",
    "- **Extensión opcional**: Prueba con otro dataset, como el de cáncer de mama (```load_breast_cancer``` de scikit-learn), y ajusta hiperparámetros como ```max_depth``` para evitar sobreajuste."
   ]
  },
  {
   "cell_type": "code",
   "execution_count": 3,
   "id": "0da75885",
   "metadata": {},
   "outputs": [
    {
     "name": "stdout",
     "output_type": "stream",
     "text": [
      "Precisión del modelo: 1.0\n",
      "Precisión media con validación cruzada: 0.9600 ± 0.0327\n",
      "Matriz de confusión:\n",
      " [[10  0  0]\n",
      " [ 0  9  0]\n",
      " [ 0  0 11]]\n",
      "\n",
      "Reporte de clasificación:\n",
      "               precision    recall  f1-score   support\n",
      "\n",
      "      setosa       1.00      1.00      1.00        10\n",
      "  versicolor       1.00      1.00      1.00         9\n",
      "   virginica       1.00      1.00      1.00        11\n",
      "\n",
      "    accuracy                           1.00        30\n",
      "   macro avg       1.00      1.00      1.00        30\n",
      "weighted avg       1.00      1.00      1.00        30\n",
      "\n"
     ]
    }
   ],
   "source": [
    "from sklearn.ensemble import GradientBoostingClassifier\n",
    "from sklearn.datasets import load_iris\n",
    "from sklearn.model_selection import train_test_split\n",
    "from sklearn.metrics import accuracy_score\n",
    "\n",
    "# Cargar dataset de Iris\n",
    "iris = load_iris()\n",
    "X = iris.data  # Características (longitud y ancho de sépalos/pétalos)\n",
    "y = iris.target  # Etiquetas (0: setosa, 1: versicolor, 2: virginica)\n",
    "\n",
    "# Dividir en datos de entrenamiento y prueba (80% train, 20% test)\n",
    "X_train, X_test, y_train, y_test = train_test_split(X, y, test_size=0.2, random_state=42)\n",
    "\n",
    "# Crear el modelo Gradient Boosting\n",
    "model = GradientBoostingClassifier(n_estimators=100, random_state=42, learning_rate=0.1, max_depth=3)\n",
    "\n",
    "# Entrenar el modelo\n",
    "model.fit(X_train, y_train)\n",
    "\n",
    "# Predecir en los datos de prueba\n",
    "y_pred = model.predict(X_test)\n",
    "\n",
    "# Calcular la precisión\n",
    "accuracy = accuracy_score(y_test, y_pred)\n",
    "print(f\"Precisión del modelo: {accuracy}\")\n",
    "\n",
    "# ¿Por qué podría Gradient Boosting dar una precisión diferente?\n",
    "# Gradient Boosting ajusta los errores de los modelos anteriores, lo que puede llevar a una mejor precisión en algunos casos.\n",
    "# Sin embargo, también puede ser más propenso al sobreajuste si no se ajustan correctamente los hiperparámetros.\n",
    "\n",
    "\n",
    "# Validacion cruzada\n",
    "from sklearn.model_selection import cross_val_score\n",
    "scores = cross_val_score(model, X, y, cv=5)  # 5-fold cross-validation\n",
    "print(f\"Precisión media con validación cruzada: {scores.mean():.4f} ± {scores.std():.4f}\")\n",
    "\n",
    "# Matriz de confusion\n",
    "from sklearn.metrics import classification_report, confusion_matrix\n",
    "print(\"Matriz de confusión:\\n\", confusion_matrix(y_test, y_pred))\n",
    "print(\"\\nReporte de clasificación:\\n\", classification_report(y_test, y_pred, target_names=iris.target_names))"
   ]
  },
  {
   "cell_type": "code",
   "execution_count": 4,
   "id": "00be0c11",
   "metadata": {},
   "outputs": [
    {
     "data": {
      "image/png": "[encoded data removed]",
      "text/plain": [
       "<Figure size 640x480 with 1 Axes>"
      ]
     },
     "metadata": {},
     "output_type": "display_data"
    }
   ],
   "source": [
    "import matplotlib.pyplot as plt\n",
    "import numpy as np\n",
    "importances = model.feature_importances_\n",
    "indices = np.argsort(importances)[::-1]\n",
    "plt.bar(range(X.shape[1]), importances[indices], align=\"center\")\n",
    "plt.xticks(range(X.shape[1]), [iris.feature_names[i] for i in indices], rotation=45)\n",
    "plt.title(\"Importancia de las características\")\n",
    "plt.show()"
   ]
  }
 ],
 "metadata": {
  "kernelspec": {
   "display_name": "Python 3",
   "language": "python",
   "name": "python3"
  },
  "language_info": {
   "codemirror_mode": {
    "name": "ipython",
    "version": 3
   },
   "file_extension": ".py",
   "mimetype": "text/x-python",
   "name": "python",
   "nbconvert_exporter": "python",
   "pygments_lexer": "ipython3",
   "version": "3.13.3"
  }
 },
 "nbformat": 4,
 "nbformat_minor": 5
}
